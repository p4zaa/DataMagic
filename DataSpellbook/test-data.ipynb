{
 "cells": [
  {
   "cell_type": "code",
   "execution_count": 5,
   "metadata": {},
   "outputs": [],
   "source": [
    "import polars as pl\n",
    "import numpy as np\n",
    "import spells"
   ]
  },
  {
   "cell_type": "code",
   "execution_count": 6,
   "metadata": {},
   "outputs": [],
   "source": [
    "path = './samples/multi-index.xlsx'\n",
    "raw_df = pl.read_excel(path)"
   ]
  },
  {
   "cell_type": "code",
   "execution_count": 7,
   "metadata": {},
   "outputs": [
    {
     "data": {
      "text/html": [
       "<div><style>\n",
       ".dataframe > thead > tr,\n",
       ".dataframe > tbody > tr {\n",
       "  text-align: right;\n",
       "  white-space: pre-wrap;\n",
       "}\n",
       "</style>\n",
       "<small>shape: (23, 8)</small><table border=\"1\" class=\"dataframe\"><thead><tr><th>SME - Main Bank</th><th>__UNNAMED__1</th><th>Banner_1 Segment Migration</th><th>__UNNAMED__3</th><th>__UNNAMED__4</th><th>Banner_2 Location</th><th>__UNNAMED__6</th><th>__UNNAMED__7</th></tr><tr><td>str</td><td>str</td><td>str</td><td>str</td><td>str</td><td>str</td><td>str</td><td>str</td></tr></thead><tbody><tr><td>null</td><td>null</td><td>&quot;Total&quot;</td><td>&quot;1 SME M&quot;</td><td>&quot;2 SME L&quot;</td><td>&quot;Total&quot;</td><td>&quot;1 BKK&quot;</td><td>&quot;2 UPC&quot;</td></tr><tr><td>null</td><td>null</td><td>&quot;Count&quot;</td><td>&quot;Count&quot;</td><td>&quot;Count&quot;</td><td>&quot;Count&quot;</td><td>&quot;Count&quot;</td><td>&quot;Count&quot;</td></tr><tr><td>&quot;MB1 ธนาคารหลักอันดับ 1&quot;</td><td>&quot;1 BBL&quot;</td><td>&quot;211&quot;</td><td>&quot;181&quot;</td><td>&quot;30&quot;</td><td>&quot;211&quot;</td><td>&quot;119&quot;</td><td>&quot;92&quot;</td></tr><tr><td>null</td><td>&quot;2 KTB&quot;</td><td>&quot;70&quot;</td><td>&quot;47&quot;</td><td>&quot;23&quot;</td><td>&quot;70&quot;</td><td>&quot;40&quot;</td><td>&quot;30&quot;</td></tr><tr><td>null</td><td>&quot;3 KRUNGSRI&quot;</td><td>&quot;60&quot;</td><td>&quot;43&quot;</td><td>&quot;17&quot;</td><td>&quot;60&quot;</td><td>&quot;39&quot;</td><td>&quot;21&quot;</td></tr><tr><td>&hellip;</td><td>&hellip;</td><td>&hellip;</td><td>&hellip;</td><td>&hellip;</td><td>&hellip;</td><td>&hellip;</td><td>&hellip;</td></tr><tr><td>null</td><td>&quot;34 SMBC&quot;</td><td>&quot;10&quot;</td><td>&quot;7&quot;</td><td>&quot;3&quot;</td><td>&quot;10&quot;</td><td>&quot;4&quot;</td><td>&quot;6&quot;</td></tr><tr><td>null</td><td>&quot;36 EXIM&quot;</td><td>&quot;1&quot;</td><td>&quot;1&quot;</td><td>&quot;0&quot;</td><td>&quot;1&quot;</td><td>&quot;0&quot;</td><td>&quot;1&quot;</td></tr><tr><td>null</td><td>&quot;38 GSB&quot;</td><td>&quot;1&quot;</td><td>&quot;1&quot;</td><td>&quot;0&quot;</td><td>&quot;1&quot;</td><td>&quot;0&quot;</td><td>&quot;1&quot;</td></tr><tr><td>null</td><td>&quot;99 OTHER BANK&quot;</td><td>&quot;1&quot;</td><td>&quot;0&quot;</td><td>&quot;1&quot;</td><td>&quot;1&quot;</td><td>&quot;1&quot;</td><td>&quot;0&quot;</td></tr><tr><td>null</td><td>&quot;Total&quot;</td><td>&quot;1035&quot;</td><td>&quot;819&quot;</td><td>&quot;216&quot;</td><td>&quot;1035&quot;</td><td>&quot;601&quot;</td><td>&quot;434&quot;</td></tr></tbody></table></div>"
      ],
      "text/plain": [
       "shape: (23, 8)\n",
       "┌────────────┬────────────┬────────────┬───────────┬───────────┬───────────┬───────────┬───────────┐\n",
       "│ SME - Main ┆ __UNNAMED_ ┆ Banner_1   ┆ __UNNAMED ┆ __UNNAMED ┆ Banner_2  ┆ __UNNAMED ┆ __UNNAMED │\n",
       "│ Bank       ┆ _1         ┆ Segment    ┆ __3       ┆ __4       ┆ Location  ┆ __6       ┆ __7       │\n",
       "│ ---        ┆ ---        ┆ Migration  ┆ ---       ┆ ---       ┆ ---       ┆ ---       ┆ ---       │\n",
       "│ str        ┆ str        ┆ ---        ┆ str       ┆ str       ┆ str       ┆ str       ┆ str       │\n",
       "│            ┆            ┆ str        ┆           ┆           ┆           ┆           ┆           │\n",
       "╞════════════╪════════════╪════════════╪═══════════╪═══════════╪═══════════╪═══════════╪═══════════╡\n",
       "│ null       ┆ null       ┆ Total      ┆ 1 SME M   ┆ 2 SME L   ┆ Total     ┆ 1 BKK     ┆ 2 UPC     │\n",
       "│ null       ┆ null       ┆ Count      ┆ Count     ┆ Count     ┆ Count     ┆ Count     ┆ Count     │\n",
       "│ MB1 ธนาคาร ┆ 1 BBL      ┆ 211        ┆ 181       ┆ 30        ┆ 211       ┆ 119       ┆ 92        │\n",
       "│ หลักอันดับ 1  ┆            ┆            ┆           ┆           ┆           ┆           ┆           │\n",
       "│ null       ┆ 2 KTB      ┆ 70         ┆ 47        ┆ 23        ┆ 70        ┆ 40        ┆ 30        │\n",
       "│ null       ┆ 3 KRUNGSRI ┆ 60         ┆ 43        ┆ 17        ┆ 60        ┆ 39        ┆ 21        │\n",
       "│ …          ┆ …          ┆ …          ┆ …         ┆ …         ┆ …         ┆ …         ┆ …         │\n",
       "│ null       ┆ 34 SMBC    ┆ 10         ┆ 7         ┆ 3         ┆ 10        ┆ 4         ┆ 6         │\n",
       "│ null       ┆ 36 EXIM    ┆ 1          ┆ 1         ┆ 0         ┆ 1         ┆ 0         ┆ 1         │\n",
       "│ null       ┆ 38 GSB     ┆ 1          ┆ 1         ┆ 0         ┆ 1         ┆ 0         ┆ 1         │\n",
       "│ null       ┆ 99 OTHER   ┆ 1          ┆ 0         ┆ 1         ┆ 1         ┆ 1         ┆ 0         │\n",
       "│            ┆ BANK       ┆            ┆           ┆           ┆           ┆           ┆           │\n",
       "│ null       ┆ Total      ┆ 1035       ┆ 819       ┆ 216       ┆ 1035      ┆ 601       ┆ 434       │\n",
       "└────────────┴────────────┴────────────┴───────────┴───────────┴───────────┴───────────┴───────────┘"
      ]
     },
     "execution_count": 7,
     "metadata": {},
     "output_type": "execute_result"
    }
   ],
   "source": [
    "raw_df"
   ]
  },
  {
   "cell_type": "code",
   "execution_count": 8,
   "metadata": {},
   "outputs": [
    {
     "data": {
      "text/html": [
       "<div><style>\n",
       ".dataframe > thead > tr,\n",
       ".dataframe > tbody > tr {\n",
       "  text-align: right;\n",
       "  white-space: pre-wrap;\n",
       "}\n",
       "</style>\n",
       "<small>shape: (23, 8)</small><table border=\"1\" class=\"dataframe\"><thead><tr><th>SME - Main Bank</th><th>__UNNAMED__1</th><th>Banner_1 Segment Migration</th><th>__UNNAMED__3</th><th>__UNNAMED__4</th><th>Banner_2 Location</th><th>__UNNAMED__6</th><th>__UNNAMED__7</th></tr><tr><td>str</td><td>str</td><td>str</td><td>str</td><td>str</td><td>str</td><td>str</td><td>str</td></tr></thead><tbody><tr><td>null</td><td>null</td><td>&quot;Total&quot;</td><td>&quot;1 SME M&quot;</td><td>&quot;2 SME L&quot;</td><td>&quot;Total&quot;</td><td>&quot;1 BKK&quot;</td><td>&quot;2 UPC&quot;</td></tr><tr><td>null</td><td>null</td><td>&quot;Count&quot;</td><td>&quot;Count&quot;</td><td>&quot;Count&quot;</td><td>&quot;Count&quot;</td><td>&quot;Count&quot;</td><td>&quot;Count&quot;</td></tr><tr><td>&quot;MB1 ธนาคารหลักอันดับ 1&quot;</td><td>&quot;1 BBL&quot;</td><td>&quot;211&quot;</td><td>&quot;181&quot;</td><td>&quot;30&quot;</td><td>&quot;211&quot;</td><td>&quot;119&quot;</td><td>&quot;92&quot;</td></tr><tr><td>&quot;MB1 ธนาคารหลักอันดับ 1&quot;</td><td>&quot;2 KTB&quot;</td><td>&quot;70&quot;</td><td>&quot;47&quot;</td><td>&quot;23&quot;</td><td>&quot;70&quot;</td><td>&quot;40&quot;</td><td>&quot;30&quot;</td></tr><tr><td>&quot;MB1 ธนาคารหลักอันดับ 1&quot;</td><td>&quot;3 KRUNGSRI&quot;</td><td>&quot;60&quot;</td><td>&quot;43&quot;</td><td>&quot;17&quot;</td><td>&quot;60&quot;</td><td>&quot;39&quot;</td><td>&quot;21&quot;</td></tr><tr><td>&hellip;</td><td>&hellip;</td><td>&hellip;</td><td>&hellip;</td><td>&hellip;</td><td>&hellip;</td><td>&hellip;</td><td>&hellip;</td></tr><tr><td>&quot;MB1 ธนาคารหลักอันดับ 1&quot;</td><td>&quot;34 SMBC&quot;</td><td>&quot;10&quot;</td><td>&quot;7&quot;</td><td>&quot;3&quot;</td><td>&quot;10&quot;</td><td>&quot;4&quot;</td><td>&quot;6&quot;</td></tr><tr><td>&quot;MB1 ธนาคารหลักอันดับ 1&quot;</td><td>&quot;36 EXIM&quot;</td><td>&quot;1&quot;</td><td>&quot;1&quot;</td><td>&quot;0&quot;</td><td>&quot;1&quot;</td><td>&quot;0&quot;</td><td>&quot;1&quot;</td></tr><tr><td>&quot;MB1 ธนาคารหลักอันดับ 1&quot;</td><td>&quot;38 GSB&quot;</td><td>&quot;1&quot;</td><td>&quot;1&quot;</td><td>&quot;0&quot;</td><td>&quot;1&quot;</td><td>&quot;0&quot;</td><td>&quot;1&quot;</td></tr><tr><td>&quot;MB1 ธนาคารหลักอันดับ 1&quot;</td><td>&quot;99 OTHER BANK&quot;</td><td>&quot;1&quot;</td><td>&quot;0&quot;</td><td>&quot;1&quot;</td><td>&quot;1&quot;</td><td>&quot;1&quot;</td><td>&quot;0&quot;</td></tr><tr><td>&quot;MB1 ธนาคารหลักอันดับ 1&quot;</td><td>&quot;Total&quot;</td><td>&quot;1035&quot;</td><td>&quot;819&quot;</td><td>&quot;216&quot;</td><td>&quot;1035&quot;</td><td>&quot;601&quot;</td><td>&quot;434&quot;</td></tr></tbody></table></div>"
      ],
      "text/plain": [
       "shape: (23, 8)\n",
       "┌────────────┬────────────┬────────────┬───────────┬───────────┬───────────┬───────────┬───────────┐\n",
       "│ SME - Main ┆ __UNNAMED_ ┆ Banner_1   ┆ __UNNAMED ┆ __UNNAMED ┆ Banner_2  ┆ __UNNAMED ┆ __UNNAMED │\n",
       "│ Bank       ┆ _1         ┆ Segment    ┆ __3       ┆ __4       ┆ Location  ┆ __6       ┆ __7       │\n",
       "│ ---        ┆ ---        ┆ Migration  ┆ ---       ┆ ---       ┆ ---       ┆ ---       ┆ ---       │\n",
       "│ str        ┆ str        ┆ ---        ┆ str       ┆ str       ┆ str       ┆ str       ┆ str       │\n",
       "│            ┆            ┆ str        ┆           ┆           ┆           ┆           ┆           │\n",
       "╞════════════╪════════════╪════════════╪═══════════╪═══════════╪═══════════╪═══════════╪═══════════╡\n",
       "│ null       ┆ null       ┆ Total      ┆ 1 SME M   ┆ 2 SME L   ┆ Total     ┆ 1 BKK     ┆ 2 UPC     │\n",
       "│ null       ┆ null       ┆ Count      ┆ Count     ┆ Count     ┆ Count     ┆ Count     ┆ Count     │\n",
       "│ MB1 ธนาคาร ┆ 1 BBL      ┆ 211        ┆ 181       ┆ 30        ┆ 211       ┆ 119       ┆ 92        │\n",
       "│ หลักอันดับ 1  ┆            ┆            ┆           ┆           ┆           ┆           ┆           │\n",
       "│ MB1 ธนาคาร ┆ 2 KTB      ┆ 70         ┆ 47        ┆ 23        ┆ 70        ┆ 40        ┆ 30        │\n",
       "│ หลักอันดับ 1  ┆            ┆            ┆           ┆           ┆           ┆           ┆           │\n",
       "│ MB1 ธนาคาร ┆ 3 KRUNGSRI ┆ 60         ┆ 43        ┆ 17        ┆ 60        ┆ 39        ┆ 21        │\n",
       "│ หลักอันดับ 1  ┆            ┆            ┆           ┆           ┆           ┆           ┆           │\n",
       "│ …          ┆ …          ┆ …          ┆ …         ┆ …         ┆ …         ┆ …         ┆ …         │\n",
       "│ MB1 ธนาคาร ┆ 34 SMBC    ┆ 10         ┆ 7         ┆ 3         ┆ 10        ┆ 4         ┆ 6         │\n",
       "│ หลักอันดับ 1  ┆            ┆            ┆           ┆           ┆           ┆           ┆           │\n",
       "│ MB1 ธนาคาร ┆ 36 EXIM    ┆ 1          ┆ 1         ┆ 0         ┆ 1         ┆ 0         ┆ 1         │\n",
       "│ หลักอันดับ 1  ┆            ┆            ┆           ┆           ┆           ┆           ┆           │\n",
       "│ MB1 ธนาคาร ┆ 38 GSB     ┆ 1          ┆ 1         ┆ 0         ┆ 1         ┆ 0         ┆ 1         │\n",
       "│ หลักอันดับ 1  ┆            ┆            ┆           ┆           ┆           ┆           ┆           │\n",
       "│ MB1 ธนาคาร ┆ 99 OTHER   ┆ 1          ┆ 0         ┆ 1         ┆ 1         ┆ 1         ┆ 0         │\n",
       "│ หลักอันดับ 1  ┆ BANK       ┆            ┆           ┆           ┆           ┆           ┆           │\n",
       "│ MB1 ธนาคาร ┆ Total      ┆ 1035       ┆ 819       ┆ 216       ┆ 1035      ┆ 601       ┆ 434       │\n",
       "│ หลักอันดับ 1  ┆            ┆            ┆           ┆           ┆           ┆           ┆           │\n",
       "└────────────┴────────────┴────────────┴───────────┴───────────┴───────────┴───────────┴───────────┘"
      ]
     },
     "execution_count": 8,
     "metadata": {},
     "output_type": "execute_result"
    }
   ],
   "source": [
    "# Fill null for merged rows\n",
    "df = raw_df.fill_null(strategy='forward')\n",
    "df"
   ]
  },
  {
   "cell_type": "code",
   "execution_count": 9,
   "metadata": {},
   "outputs": [
    {
     "data": {
      "text/plain": [
       "array(['SME - Main Bank', '__UNNAMED__1', 'Banner_1 Segment Migration',\n",
       "       '__UNNAMED__3', '__UNNAMED__4', 'Banner_2 Location',\n",
       "       '__UNNAMED__6', '__UNNAMED__7'], dtype='<U26')"
      ]
     },
     "execution_count": 9,
     "metadata": {},
     "output_type": "execute_result"
    }
   ],
   "source": [
    "np.array(df.columns)"
   ]
  },
  {
   "cell_type": "code",
   "execution_count": 10,
   "metadata": {},
   "outputs": [
    {
     "data": {
      "text/plain": [
       "array([[None, None, 'Total', '1 SME M', '2 SME L', 'Total', '1 BKK',\n",
       "        '2 UPC'],\n",
       "       [None, None, 'Count', 'Count', 'Count', 'Count', 'Count', 'Count'],\n",
       "       ['MB1 ธนาคารหลักอันดับ 1', '1 BBL', '211', '181', '30', '211',\n",
       "        '119', '92']], dtype=object)"
      ]
     },
     "execution_count": 10,
     "metadata": {},
     "output_type": "execute_result"
    }
   ],
   "source": [
    "df.head(3).to_numpy()"
   ]
  },
  {
   "cell_type": "code",
   "execution_count": 11,
   "metadata": {},
   "outputs": [
    {
     "data": {
      "text/plain": [
       "'import polars as pl\\n\\ndef flatten_dataframe(df: pl.DataFrame, n_column_rows: int = 1) -> pl.DataFrame:\\n    \"\"\"\\n    Flatten a Polars DataFrame with multiple header rows into a single header row,\\n    replacing \\'__UNNAMED__n\\' with the nearest valid left-side column name,\\n    and ensuring unique column names by adding a \\'_n\\' prefix to duplicates.\\n\\n    Parameters:\\n        df (pl.DataFrame): The input Polars DataFrame.\\n        n_column_rows (int): Number of rows used as column headers.\\n\\n    Returns:\\n        pl.DataFrame: The flattened DataFrame.\\n    \"\"\"\\n    # Step 1: Replace \\'__UNNAMED__n\\' with the nearest valid left-side column name\\n    valid_columns = []\\n    for col in df.columns:\\n        if col.startswith(\"__UNNAMED__\"):\\n            valid_columns.append(valid_columns[-1] if valid_columns else col)\\n        else:\\n            valid_columns.append(col)\\n\\n    # Step 2: Extract the rows used as column headers and include the valid column names\\n    header_rows = df.head(n_column_rows).to_numpy()\\n    column_names = valid_columns\\n\\n    # Step 3: Generate new column names by concatenating valid column names and header rows\\n    new_column_names = [\\n        \"_\".join(\\n            [column_names[col]] +\\n            [str(header_rows[row, col]) if header_rows[row, col] is not None else \"\" for row in range(n_column_rows)]\\n        ).strip(\"_\")\\n        for col in range(len(column_names))\\n    ]\\n\\n    # Step 4: Ensure unique column names by adding a \\'_n\\' suffix to duplicates\\n    unique_column_names = []\\n    seen = {}\\n    for name in new_column_names:\\n        if name not in seen:\\n            unique_column_names.append(name)\\n            seen[name] = 1\\n        else:\\n            new_name = f\"{name}_{seen[name]}\"\\n            while new_name in seen:  # Ensure no collisions with other names\\n                seen[name] += 1\\n                new_name = f\"{name}_{seen[name]}\"\\n            unique_column_names.append(new_name)\\n            seen[new_name] = 1\\n\\n    # Step 5: Create the flattened DataFrame by skipping the header rows\\n    flattened_df = df[n_column_rows:].rename({old: new for old, new in zip(df.columns, unique_column_names)})\\n\\n    return flattened_df'"
      ]
     },
     "execution_count": 11,
     "metadata": {},
     "output_type": "execute_result"
    }
   ],
   "source": [
    "'''import polars as pl\n",
    "\n",
    "def flatten_dataframe(df: pl.DataFrame, n_column_rows: int = 1) -> pl.DataFrame:\n",
    "    \"\"\"\n",
    "    Flatten a Polars DataFrame with multiple header rows into a single header row,\n",
    "    replacing '__UNNAMED__n' with the nearest valid left-side column name,\n",
    "    and ensuring unique column names by adding a '_n' prefix to duplicates.\n",
    "\n",
    "    Parameters:\n",
    "        df (pl.DataFrame): The input Polars DataFrame.\n",
    "        n_column_rows (int): Number of rows used as column headers.\n",
    "\n",
    "    Returns:\n",
    "        pl.DataFrame: The flattened DataFrame.\n",
    "    \"\"\"\n",
    "    # Step 1: Replace '__UNNAMED__n' with the nearest valid left-side column name\n",
    "    valid_columns = []\n",
    "    for col in df.columns:\n",
    "        if col.startswith(\"__UNNAMED__\"):\n",
    "            valid_columns.append(valid_columns[-1] if valid_columns else col)\n",
    "        else:\n",
    "            valid_columns.append(col)\n",
    "\n",
    "    # Step 2: Extract the rows used as column headers and include the valid column names\n",
    "    header_rows = df.head(n_column_rows).to_numpy()\n",
    "    column_names = valid_columns\n",
    "\n",
    "    # Step 3: Generate new column names by concatenating valid column names and header rows\n",
    "    new_column_names = [\n",
    "        \"_\".join(\n",
    "            [column_names[col]] +\n",
    "            [str(header_rows[row, col]) if header_rows[row, col] is not None else \"\" for row in range(n_column_rows)]\n",
    "        ).strip(\"_\")\n",
    "        for col in range(len(column_names))\n",
    "    ]\n",
    "\n",
    "    # Step 4: Ensure unique column names by adding a '_n' suffix to duplicates\n",
    "    unique_column_names = []\n",
    "    seen = {}\n",
    "    for name in new_column_names:\n",
    "        if name not in seen:\n",
    "            unique_column_names.append(name)\n",
    "            seen[name] = 1\n",
    "        else:\n",
    "            new_name = f\"{name}_{seen[name]}\"\n",
    "            while new_name in seen:  # Ensure no collisions with other names\n",
    "                seen[name] += 1\n",
    "                new_name = f\"{name}_{seen[name]}\"\n",
    "            unique_column_names.append(new_name)\n",
    "            seen[new_name] = 1\n",
    "\n",
    "    # Step 5: Create the flattened DataFrame by skipping the header rows\n",
    "    flattened_df = df[n_column_rows:].rename({old: new for old, new in zip(df.columns, unique_column_names)})\n",
    "\n",
    "    return flattened_df'''"
   ]
  },
  {
   "cell_type": "code",
   "execution_count": null,
   "metadata": {},
   "outputs": [],
   "source": []
  },
  {
   "cell_type": "code",
   "execution_count": 12,
   "metadata": {},
   "outputs": [
    {
     "data": {
      "text/html": [
       "<div><style>\n",
       ".dataframe > thead > tr,\n",
       ".dataframe > tbody > tr {\n",
       "  text-align: right;\n",
       "  white-space: pre-wrap;\n",
       "}\n",
       "</style>\n",
       "<small>shape: (21, 8)</small><table border=\"1\" class=\"dataframe\"><thead><tr><th>SME - Main Bank</th><th>SME - Main Bank_1</th><th>Banner_1 Segment Migration-&gt;Total-&gt;Count</th><th>Banner_1 Segment Migration-&gt;1 SME M-&gt;Count</th><th>Banner_1 Segment Migration-&gt;2 SME L-&gt;Count</th><th>Banner_2 Location-&gt;Total-&gt;Count</th><th>Banner_2 Location-&gt;1 BKK-&gt;Count</th><th>Banner_2 Location-&gt;2 UPC-&gt;Count</th></tr><tr><td>str</td><td>str</td><td>i64</td><td>i64</td><td>i64</td><td>i64</td><td>i64</td><td>i64</td></tr></thead><tbody><tr><td>&quot;MB1 ธนาคารหลักอันดับ 1&quot;</td><td>&quot;1 BBL&quot;</td><td>211</td><td>181</td><td>30</td><td>211</td><td>119</td><td>92</td></tr><tr><td>&quot;MB1 ธนาคารหลักอันดับ 1&quot;</td><td>&quot;2 KTB&quot;</td><td>70</td><td>47</td><td>23</td><td>70</td><td>40</td><td>30</td></tr><tr><td>&quot;MB1 ธนาคารหลักอันดับ 1&quot;</td><td>&quot;3 KRUNGSRI&quot;</td><td>60</td><td>43</td><td>17</td><td>60</td><td>39</td><td>21</td></tr><tr><td>&quot;MB1 ธนาคารหลักอันดับ 1&quot;</td><td>&quot;4 KBank&quot;</td><td>378</td><td>301</td><td>77</td><td>378</td><td>231</td><td>147</td></tr><tr><td>&quot;MB1 ธนาคารหลักอันดับ 1&quot;</td><td>&quot;6 TTB&quot;</td><td>74</td><td>65</td><td>9</td><td>74</td><td>31</td><td>43</td></tr><tr><td>&hellip;</td><td>&hellip;</td><td>&hellip;</td><td>&hellip;</td><td>&hellip;</td><td>&hellip;</td><td>&hellip;</td><td>&hellip;</td></tr><tr><td>&quot;MB1 ธนาคารหลักอันดับ 1&quot;</td><td>&quot;34 SMBC&quot;</td><td>10</td><td>7</td><td>3</td><td>10</td><td>4</td><td>6</td></tr><tr><td>&quot;MB1 ธนาคารหลักอันดับ 1&quot;</td><td>&quot;36 EXIM&quot;</td><td>1</td><td>1</td><td>0</td><td>1</td><td>0</td><td>1</td></tr><tr><td>&quot;MB1 ธนาคารหลักอันดับ 1&quot;</td><td>&quot;38 GSB&quot;</td><td>1</td><td>1</td><td>0</td><td>1</td><td>0</td><td>1</td></tr><tr><td>&quot;MB1 ธนาคารหลักอันดับ 1&quot;</td><td>&quot;99 OTHER BANK&quot;</td><td>1</td><td>0</td><td>1</td><td>1</td><td>1</td><td>0</td></tr><tr><td>&quot;MB1 ธนาคารหลักอันดับ 1&quot;</td><td>&quot;Total&quot;</td><td>1035</td><td>819</td><td>216</td><td>1035</td><td>601</td><td>434</td></tr></tbody></table></div>"
      ],
      "text/plain": [
       "shape: (21, 8)\n",
       "┌────────────┬────────────┬────────────┬───────────┬───────────┬───────────┬───────────┬───────────┐\n",
       "│ SME - Main ┆ SME - Main ┆ Banner_1   ┆ Banner_1  ┆ Banner_1  ┆ Banner_2  ┆ Banner_2  ┆ Banner_2  │\n",
       "│ Bank       ┆ Bank_1     ┆ Segment    ┆ Segment   ┆ Segment   ┆ Location- ┆ Location- ┆ Location- │\n",
       "│ ---        ┆ ---        ┆ Migration- ┆ Migration ┆ Migration ┆ >Total->C ┆ >1 BKK->C ┆ >2 UPC->C │\n",
       "│ str        ┆ str        ┆ >To…       ┆ ->1 …     ┆ ->2 …     ┆ oun…      ┆ oun…      ┆ oun…      │\n",
       "│            ┆            ┆ ---        ┆ ---       ┆ ---       ┆ ---       ┆ ---       ┆ ---       │\n",
       "│            ┆            ┆ i64        ┆ i64       ┆ i64       ┆ i64       ┆ i64       ┆ i64       │\n",
       "╞════════════╪════════════╪════════════╪═══════════╪═══════════╪═══════════╪═══════════╪═══════════╡\n",
       "│ MB1 ธนาคาร ┆ 1 BBL      ┆ 211        ┆ 181       ┆ 30        ┆ 211       ┆ 119       ┆ 92        │\n",
       "│ หลักอันดับ 1  ┆            ┆            ┆           ┆           ┆           ┆           ┆           │\n",
       "│ MB1 ธนาคาร ┆ 2 KTB      ┆ 70         ┆ 47        ┆ 23        ┆ 70        ┆ 40        ┆ 30        │\n",
       "│ หลักอันดับ 1  ┆            ┆            ┆           ┆           ┆           ┆           ┆           │\n",
       "│ MB1 ธนาคาร ┆ 3 KRUNGSRI ┆ 60         ┆ 43        ┆ 17        ┆ 60        ┆ 39        ┆ 21        │\n",
       "│ หลักอันดับ 1  ┆            ┆            ┆           ┆           ┆           ┆           ┆           │\n",
       "│ MB1 ธนาคาร ┆ 4 KBank    ┆ 378        ┆ 301       ┆ 77        ┆ 378       ┆ 231       ┆ 147       │\n",
       "│ หลักอันดับ 1  ┆            ┆            ┆           ┆           ┆           ┆           ┆           │\n",
       "│ MB1 ธนาคาร ┆ 6 TTB      ┆ 74         ┆ 65        ┆ 9         ┆ 74        ┆ 31        ┆ 43        │\n",
       "│ หลักอันดับ 1  ┆            ┆            ┆           ┆           ┆           ┆           ┆           │\n",
       "│ …          ┆ …          ┆ …          ┆ …         ┆ …         ┆ …         ┆ …         ┆ …         │\n",
       "│ MB1 ธนาคาร ┆ 34 SMBC    ┆ 10         ┆ 7         ┆ 3         ┆ 10        ┆ 4         ┆ 6         │\n",
       "│ หลักอันดับ 1  ┆            ┆            ┆           ┆           ┆           ┆           ┆           │\n",
       "│ MB1 ธนาคาร ┆ 36 EXIM    ┆ 1          ┆ 1         ┆ 0         ┆ 1         ┆ 0         ┆ 1         │\n",
       "│ หลักอันดับ 1  ┆            ┆            ┆           ┆           ┆           ┆           ┆           │\n",
       "│ MB1 ธนาคาร ┆ 38 GSB     ┆ 1          ┆ 1         ┆ 0         ┆ 1         ┆ 0         ┆ 1         │\n",
       "│ หลักอันดับ 1  ┆            ┆            ┆           ┆           ┆           ┆           ┆           │\n",
       "│ MB1 ธนาคาร ┆ 99 OTHER   ┆ 1          ┆ 0         ┆ 1         ┆ 1         ┆ 1         ┆ 0         │\n",
       "│ หลักอันดับ 1  ┆ BANK       ┆            ┆           ┆           ┆           ┆           ┆           │\n",
       "│ MB1 ธนาคาร ┆ Total      ┆ 1035       ┆ 819       ┆ 216       ┆ 1035      ┆ 601       ┆ 434       │\n",
       "│ หลักอันดับ 1  ┆            ┆            ┆           ┆           ┆           ┆           ┆           │\n",
       "└────────────┴────────────┴────────────┴───────────┴───────────┴───────────┴───────────┴───────────┘"
      ]
     },
     "execution_count": 12,
     "metadata": {},
     "output_type": "execute_result"
    }
   ],
   "source": [
    "spells.flatten_dataframe(raw_df, n_column_rows=2, merged_columns=['SME - Main Bank'], infer_dtypes=True, separator='->')"
   ]
  },
  {
   "cell_type": "code",
   "execution_count": 17,
   "metadata": {},
   "outputs": [
    {
     "data": {
      "text/html": [
       "<div><style>\n",
       ".dataframe > thead > tr,\n",
       ".dataframe > tbody > tr {\n",
       "  text-align: right;\n",
       "  white-space: pre-wrap;\n",
       "}\n",
       "</style>\n",
       "<small>shape: (21, 8)</small><table border=\"1\" class=\"dataframe\"><thead><tr><th>SME - Main Bank</th><th>SME - Main Bank_1</th><th>Banner_1 Segment Migration&gt;Total&gt;Count</th><th>Banner_1 Segment Migration&gt;1 SME M&gt;Count</th><th>Banner_1 Segment Migration&gt;2 SME L&gt;Count</th><th>Banner_2 Location&gt;Total&gt;Count</th><th>Banner_2 Location&gt;1 BKK&gt;Count</th><th>Banner_2 Location&gt;2 UPC&gt;Count</th></tr><tr><td>str</td><td>str</td><td>i64</td><td>i64</td><td>i64</td><td>i64</td><td>i64</td><td>i64</td></tr></thead><tbody><tr><td>&quot;MB1 ธนาคารหลักอันดับ 1&quot;</td><td>&quot;1 BBL&quot;</td><td>211</td><td>181</td><td>30</td><td>211</td><td>119</td><td>92</td></tr><tr><td>&quot;MB1 ธนาคารหลักอันดับ 1&quot;</td><td>&quot;2 KTB&quot;</td><td>70</td><td>47</td><td>23</td><td>70</td><td>40</td><td>30</td></tr><tr><td>&quot;MB1 ธนาคารหลักอันดับ 1&quot;</td><td>&quot;3 KRUNGSRI&quot;</td><td>60</td><td>43</td><td>17</td><td>60</td><td>39</td><td>21</td></tr><tr><td>&quot;MB1 ธนาคารหลักอันดับ 1&quot;</td><td>&quot;4 KBank&quot;</td><td>378</td><td>301</td><td>77</td><td>378</td><td>231</td><td>147</td></tr><tr><td>&quot;MB1 ธนาคารหลักอันดับ 1&quot;</td><td>&quot;6 TTB&quot;</td><td>74</td><td>65</td><td>9</td><td>74</td><td>31</td><td>43</td></tr><tr><td>&hellip;</td><td>&hellip;</td><td>&hellip;</td><td>&hellip;</td><td>&hellip;</td><td>&hellip;</td><td>&hellip;</td><td>&hellip;</td></tr><tr><td>&quot;MB1 ธนาคารหลักอันดับ 1&quot;</td><td>&quot;34 SMBC&quot;</td><td>10</td><td>7</td><td>3</td><td>10</td><td>4</td><td>6</td></tr><tr><td>&quot;MB1 ธนาคารหลักอันดับ 1&quot;</td><td>&quot;36 EXIM&quot;</td><td>1</td><td>1</td><td>0</td><td>1</td><td>0</td><td>1</td></tr><tr><td>&quot;MB1 ธนาคารหลักอันดับ 1&quot;</td><td>&quot;38 GSB&quot;</td><td>1</td><td>1</td><td>0</td><td>1</td><td>0</td><td>1</td></tr><tr><td>&quot;MB1 ธนาคารหลักอันดับ 1&quot;</td><td>&quot;99 OTHER BANK&quot;</td><td>1</td><td>0</td><td>1</td><td>1</td><td>1</td><td>0</td></tr><tr><td>&quot;MB1 ธนาคารหลักอันดับ 1&quot;</td><td>&quot;Total&quot;</td><td>1035</td><td>819</td><td>216</td><td>1035</td><td>601</td><td>434</td></tr></tbody></table></div>"
      ],
      "text/plain": [
       "shape: (21, 8)\n",
       "┌────────────┬────────────┬────────────┬───────────┬───────────┬───────────┬───────────┬───────────┐\n",
       "│ SME - Main ┆ SME - Main ┆ Banner_1   ┆ Banner_1  ┆ Banner_1  ┆ Banner_2  ┆ Banner_2  ┆ Banner_2  │\n",
       "│ Bank       ┆ Bank_1     ┆ Segment    ┆ Segment   ┆ Segment   ┆ Location> ┆ Location> ┆ Location> │\n",
       "│ ---        ┆ ---        ┆ Migration> ┆ Migration ┆ Migration ┆ Total>Cou ┆ 1         ┆ 2         │\n",
       "│ str        ┆ str        ┆ Tot…       ┆ >1 S…     ┆ >2 S…     ┆ nt        ┆ BKK>Count ┆ UPC>Count │\n",
       "│            ┆            ┆ ---        ┆ ---       ┆ ---       ┆ ---       ┆ ---       ┆ ---       │\n",
       "│            ┆            ┆ i64        ┆ i64       ┆ i64       ┆ i64       ┆ i64       ┆ i64       │\n",
       "╞════════════╪════════════╪════════════╪═══════════╪═══════════╪═══════════╪═══════════╪═══════════╡\n",
       "│ MB1 ธนาคาร ┆ 1 BBL      ┆ 211        ┆ 181       ┆ 30        ┆ 211       ┆ 119       ┆ 92        │\n",
       "│ หลักอันดับ 1  ┆            ┆            ┆           ┆           ┆           ┆           ┆           │\n",
       "│ MB1 ธนาคาร ┆ 2 KTB      ┆ 70         ┆ 47        ┆ 23        ┆ 70        ┆ 40        ┆ 30        │\n",
       "│ หลักอันดับ 1  ┆            ┆            ┆           ┆           ┆           ┆           ┆           │\n",
       "│ MB1 ธนาคาร ┆ 3 KRUNGSRI ┆ 60         ┆ 43        ┆ 17        ┆ 60        ┆ 39        ┆ 21        │\n",
       "│ หลักอันดับ 1  ┆            ┆            ┆           ┆           ┆           ┆           ┆           │\n",
       "│ MB1 ธนาคาร ┆ 4 KBank    ┆ 378        ┆ 301       ┆ 77        ┆ 378       ┆ 231       ┆ 147       │\n",
       "│ หลักอันดับ 1  ┆            ┆            ┆           ┆           ┆           ┆           ┆           │\n",
       "│ MB1 ธนาคาร ┆ 6 TTB      ┆ 74         ┆ 65        ┆ 9         ┆ 74        ┆ 31        ┆ 43        │\n",
       "│ หลักอันดับ 1  ┆            ┆            ┆           ┆           ┆           ┆           ┆           │\n",
       "│ …          ┆ …          ┆ …          ┆ …         ┆ …         ┆ …         ┆ …         ┆ …         │\n",
       "│ MB1 ธนาคาร ┆ 34 SMBC    ┆ 10         ┆ 7         ┆ 3         ┆ 10        ┆ 4         ┆ 6         │\n",
       "│ หลักอันดับ 1  ┆            ┆            ┆           ┆           ┆           ┆           ┆           │\n",
       "│ MB1 ธนาคาร ┆ 36 EXIM    ┆ 1          ┆ 1         ┆ 0         ┆ 1         ┆ 0         ┆ 1         │\n",
       "│ หลักอันดับ 1  ┆            ┆            ┆           ┆           ┆           ┆           ┆           │\n",
       "│ MB1 ธนาคาร ┆ 38 GSB     ┆ 1          ┆ 1         ┆ 0         ┆ 1         ┆ 0         ┆ 1         │\n",
       "│ หลักอันดับ 1  ┆            ┆            ┆           ┆           ┆           ┆           ┆           │\n",
       "│ MB1 ธนาคาร ┆ 99 OTHER   ┆ 1          ┆ 0         ┆ 1         ┆ 1         ┆ 1         ┆ 0         │\n",
       "│ หลักอันดับ 1  ┆ BANK       ┆            ┆           ┆           ┆           ┆           ┆           │\n",
       "│ MB1 ธนาคาร ┆ Total      ┆ 1035       ┆ 819       ┆ 216       ┆ 1035      ┆ 601       ┆ 434       │\n",
       "│ หลักอันดับ 1  ┆            ┆            ┆           ┆           ┆           ┆           ┆           │\n",
       "└────────────┴────────────┴────────────┴───────────┴───────────┴───────────┴───────────┴───────────┘"
      ]
     },
     "execution_count": 17,
     "metadata": {},
     "output_type": "execute_result"
    }
   ],
   "source": [
    "raw_df.pipe(spells.flatten_dataframe, n_column_rows=2, merged_columns='*', infer_dtypes=True, separator='>')"
   ]
  }
 ],
 "metadata": {
  "kernelspec": {
   "display_name": ".venv",
   "language": "python",
   "name": "python3"
  },
  "language_info": {
   "codemirror_mode": {
    "name": "ipython",
    "version": 3
   },
   "file_extension": ".py",
   "mimetype": "text/x-python",
   "name": "python",
   "nbconvert_exporter": "python",
   "pygments_lexer": "ipython3",
   "version": "3.12.3"
  }
 },
 "nbformat": 4,
 "nbformat_minor": 2
}
